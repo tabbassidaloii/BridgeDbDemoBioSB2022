{
    "cells": [
        {
            "cell_type": "markdown",
            "metadata": {},
            "source": [
                "## Introduction\n",
                "In this section, identifier (IDs) mapping is performed on an example metabolomics data set, which was original annotated using HMDB symbols.\n",
                "The dataset has been preprocessed already, for details see step 7 and 8 of the multi-omics workflow at: https://github.com/BiGCAT-UM/Transcriptomics_Metabolomics_Analysis/tree/master/metabolomics_analysis .\n",
                "We map the HGNCMDB symbols to ChEBI IDs, since tools downstream of this step require different input formats for the IDs.\n",
                "\n",
                "We use one tool for this mapping: BridgeDb [doi:10.18129/B9.bioc.BridgeDbR].\n",
                "\n",
                "## Setup\n"
            ]
        },
        {
            "cell_type": "code",
            "execution_count": null,
            "metadata": {},
            "outputs": [],
            "source": [
                "# empty the R environment\n",
                "rm (list = ls())\n",
                "# check if libraries are already installed, otherwise install it\n",
                "if (!requireNamespace(\"BiocManager\", quietly = TRUE)) install.packages(\"BiocManager\")\n",
                "if(!\"rstudioapi\" %in% installed.packages()) BiocManager::install(\"rstudioapi\")\n",
                "if(!\"dplyr\" %in% installed.packages()) BiocManager::install(\"dplyr\")\n",
                "if(!\"BridgeDbR\" %in% installed.packages()) BiocManager::install(\"BridgeDbR\")\n",
                "if(!\"data.table\" %in% installed.packages())install.packages(\"data.table\")\n",
                "if(!\"knitr\" %in% installed.packages())install.packages(\"knitr\")\n",
                "if(!\"rJava\" %in% installed.packages()) install.packages(\"rJava\")\n",
                "## See https://www.r-bloggers.com/2018/02/installing-rjava-on-ubuntu/ if you have issues with this package on Ubuntu.\n",
                "if(!\"ggplot2\" %in% installed.packages()) install.packages(\"ggplot2\")\n",
                "\n",
                "#load libraries\n",
                "suppressPackageStartupMessages({\n",
                "  library(rstudioapi)\n",
                "  library(dplyr)\n",
                "  library(BridgeDbR)\n",
                "  library(data.table)\n",
                "  library(knitr)\n",
                "  # library(rJava)\n",
                "  library(ggplot2)\n",
                "\n",
                "})\n",
                "\n",
                "# set your working environment to the location where your current source file is saved into.\n",
                "setwd(dirname(rstudioapi::getSourceEditorContext()$path))\n"
            ]
        },
        {
            "cell_type": "markdown",
            "metadata": {},
            "source": [
                "## Importing dataset\n",
                "The data will be read for two diseases\n"
            ]
        },
        {
            "cell_type": "code",
            "execution_count": null,
            "metadata": {},
            "outputs": [],
            "source": [
                "mbx_dataset_CD <- read.csv(\"data/mbxData_CD.csv\") %>% \n",
                "  select (HMDB_ID, Compound_Name, foldchange_disorder, p_values_disorder) %>% #filter out unused columns\n",
                "  rename (HMDBID = HMDB_ID, log2FC = foldchange_disorder, pvalue = p_values_disorder) #change column names\n",
                "mbx_dataset_UC <- read.csv(\"data/mbxData_UC.csv\") %>%\n",
                "  select (HMDB_ID, Compound_Name, foldchange_disorder, p_values_disorder) %>% #filter out unused columns\n",
                "  rename (HMDBID = HMDB_ID, log2FC = foldchange_disorder, pvalue = p_values_disorder) #change column names\n"
            ]
        },
        {
            "cell_type": "markdown",
            "metadata": {},
            "source": [
                "\n",
                "## Converting HMDB IDs to ChEBI IDs (BridgeDb)\n"
            ]
        },
        {
            "cell_type": "code",
            "execution_count": null,
            "metadata": {},
            "outputs": [],
            "source": [
                "##Download the Metabolite mapping file (if it doesn't exist locally yet):\n",
                "checkfile <- paste0(getwd(), '/' ,\"data/metabolites.bridge\")\n",
                "if (!file.exists(checkfile)) {\n",
                "download.file(\"https://figshare.com/ndownloader/files/26001794\", checkfile)\n",
                "}\n",
                "#Load the ID mapper:\n",
                "mapper <- loadDatabase(checkfile)\n",
                "\n",
                "## Obtain the System codes for the databases HMDB (source database of dataset) and ChEBI (intended output database)\n",
                "code_mappingFrom <- getSystemCode(\"HMDB\")\n",
                "code_mappingTo <- getSystemCode(\"ChEBI\")\n",
                "\n",
                "# TODO:: there are duplicated HMDB IDs in the datasets, maybe it should first be fixed based on the metabolite names\n",
                "## Create a data frame with the mappings and the correct SystemCode\n",
                "input <- data.frame(\n",
                "    source = rep(code_mappingFrom, length(unique(c(mbx_dataset_CD$HMDBID, mbx_dataset_UC$HMDBID)))),\n",
                "    identifier = unique(c(mbx_dataset_CD$HMDBID, mbx_dataset_UC$HMDBID)))\n",
                "#Obtain all mappings from HMDB to ChEBI\n",
                "chebiID <- maps(mapper, input, code_mappingTo) %>%\n",
                "  filter(grepl(\"CHEBI\", mapping, fixed = TRUE)) #remove all rows in the mapped data which do not include the prefix \"CHEBI\"\n",
                "# checking the one-to-multiple mappings\n",
                "if(!all(table(chebiID$identifier) == 1)) {print (\"There are one-to-multiple mappings.\")} else  print (\"There is no one-to-multiple mapping.\")\n",
                "\n",
                "# add chebi IDs for each metabolite in the dataset\n",
                "mbx_dataset_CD$ChEBI_BridgeDb <- chebiID$mapping[match(mbx_dataset_CD$HMDBID, chebiID$identifier)]\n",
                "mbx_dataset_UC$ChEBI_BridgeDb <- chebiID$mapping[match(mbx_dataset_UC$HMDBID, chebiID$identifier)]\n"
            ]
        },
        {
            "cell_type": "markdown",
            "metadata": {},
            "source": [
                "## Using BridgeDb for secondary to primary mapping of HMDB IDs\n",
                "\n",
                "### mapping the HMDB IDs to primary HMDB IDs\n"
            ]
        },
        {
            "cell_type": "code",
            "execution_count": null,
            "metadata": {},
            "outputs": [],
            "source": [
                "rm(list = setdiff(ls(), c(\"mbx_dataset_CD\", \"mbx_dataset_UC\"))) # removing variables that are not required\n",
                "##Download the mapping file (if it doesn't exist locally yet):\n",
                "checkfile <- paste0(getwd(), '/' ,\"data/hmdb_secondaryToPrimaryIDs.bridge\")\n",
                "if (!file.exists(checkfile)) {\n",
                "download.file(\"NOT YET UPLOADED ANYWHERE\", checkfile)\n",
                "}\n",
                "\n",
                "#Load the ID mapper:\n",
                "mapper <- loadDatabase(checkfile)\n",
                "\n",
                "## Obtain the System codes for the databases HMDB \n",
                "code_mapping <- getSystemCode(\"HMDB\")\n",
                "\n",
                "## Create a data frame with the mappings and the correct SystemCode\n",
                "input <- data.frame(source= rep(code_mapping, length(unique(c(mbx_dataset_CD$HMDBID, mbx_dataset_UC$HMDBID)))),\n",
                "                    identifier = gsub(\"\\\\*\", \"\", unique(c(mbx_dataset_CD$HMDBID, mbx_dataset_UC$HMDBID))))\n",
                "\n",
                "#converting secondary HMDB IDs to primary HMDB IDs \n",
                "hmdbID <- maps(mapper = mapper, input, target = code_mapping) %>% \n",
                "    filter(isPrimary == \"T\") # Keeping only rows where the mapping is annotated as primary id (defined in BridgeDb java library when creating the derby database)\n",
                "\n",
                "# check the one-to-multiple mappings\n",
                "if(!all(table(hmdbID$identifier) == 1)) {print (\"There are one-to-multiple mappings.\")} else  print (\"There is no one-to-multiple mapping.\")\n",
                "\n",
                "# add HMDB id for each gene symbol in the dataset\n",
                "mbx_dataset_CD$Current_HMDBID <- hmdbID$mapping[match(mbx_dataset_CD$HMDBID, hmdbID$identifier)]\n",
                "mbx_dataset_UC$Current_HMDBID <- hmdbID$mapping[match(mbx_dataset_UC$HMDBID, hmdbID$identifier)]\n"
            ]
        },
        {
            "cell_type": "markdown",
            "metadata": {},
            "source": [
                "Checking if all the secondary HMDB ids are mapped to a primary ID\n",
                "\n"
            ]
        },
        {
            "cell_type": "code",
            "execution_count": null,
            "metadata": {},
            "outputs": [],
            "source": [
                "mbx_dataset_CD[is.na(mbx_dataset_CD$Current_HMDBID), ]\n",
                "\n"
            ]
        },
        {
            "cell_type": "markdown",
            "metadata": {},
            "source": [
                "There is only one metabolite with no primary ID.\n",
                "We try to finding a primary HMDB IDs for metabolites using the compound name\n"
            ]
        },
        {
            "cell_type": "code",
            "execution_count": null,
            "metadata": {},
            "outputs": [],
            "source": [
                "# Get the metabolite name \n",
                "input <- c (mbx_dataset_CD$Compound_Name[is.na(mbx_dataset_CD$Current_HMDBID)], sub(\"(.)\", \"\\\\U\\\\1\", mbx_dataset_CD$Compound_Name[is.na(mbx_dataset_CD$Current_HMDBID)], perl=TRUE)) #making sure that the metabolite would be mapped if in the database it starts with a capital letter\n",
                "\n",
                "## Create a data frame with the mappings and the correct SystemCode\n",
                "# When we created the derby database, the system code we used for the metabolite name was \"O\" as there was no defined system code for it\n",
                "input <- data.frame(source = rep(\"O\", length(input)), \n",
                "                    identifier = input)\n",
                "\n",
                "#converting primary metabolite name to primary HMDB IDs \n",
                "(hmdbID <- maps(mapper = mapper, input, target = code_mapping) %>%\n",
                "    filter(isPrimary == \"T\")) # Keeping only rows where the mapping is annotated as primary id (defined in BridgeDb java library when creating the derby database)\n"
            ]
        },
        {
            "cell_type": "markdown",
            "metadata": {},
            "source": [
                "And the current id is HMDB0002172. Adding the current id to the mbx_dataset_CD\n",
                "\n"
            ]
        },
        {
            "cell_type": "code",
            "execution_count": null,
            "metadata": {},
            "outputs": [],
            "source": [
                "mbx_dataset_CD$Current_HMDBID[mbx_dataset_CD$Compound_Name == \"diacetylspermine\"] = hmdbID$mapping\n",
                "mbx_dataset_UC$Current_HMDBID[mbx_dataset_UC$Compound_Name == \"diacetylspermine\"] = hmdbID$mapping\n",
                "rm(list = setdiff(ls(), c(\"mbx_dataset_CD\", \"mbx_dataset_UC\"))) # removing variables that are not required\n"
            ]
        },
        {
            "cell_type": "markdown",
            "metadata": {},
            "source": [
                "\n",
                "## Converting `primary` HMDB IDs to the corresponding ChEBI IDs (BridgeDb)\n"
            ]
        },
        {
            "cell_type": "code",
            "execution_count": null,
            "metadata": {},
            "outputs": [],
            "source": [
                "rm(list = setdiff(ls(), c(\"mbx_dataset_CD\", \"mbx_dataset_UC\"))) # removing variables that are not required\n",
                "#Load the ID mapper:\n",
                "mapper <- loadDatabase(paste0(getwd(), '/' ,\"data/metabolites.bridge\"))\n",
                "\n",
                "## Obtain the System codes for the databases HMDB (source database of dataset) and ChEBI (intended output database)\n",
                "code_mappingFrom <- getSystemCode(\"HMDB\")\n",
                "code_mappingTo <- getSystemCode(\"ChEBI\")\n",
                "\n",
                "# TODO:: there are duplicated HMDB IDs in the datasets, maybe it should first be fixed based on the metabolite names\n",
                "## Create a data frame with the mappings and the correct SystemCode\n",
                "input <- data.frame(\n",
                "    source = rep(code_mappingFrom, length(unique(c(mbx_dataset_CD$Current_HMDBID, mbx_dataset_UC$Current_HMDBID)))),\n",
                "    identifier = unique(c(mbx_dataset_CD$Current_HMDBID, mbx_dataset_UC$Current_HMDBID)))\n",
                "#Obtain all mappings from primary HMDB ID to ChEBI ID\n",
                "chebiID <- maps(mapper, input, code_mappingTo) %>%\n",
                "  filter(grepl(\"CHEBI\", mapping, fixed = TRUE)) #remove all rows in the mapped data which do not include the prefix \"CHEBI\"\n",
                "# checking the one-to-multiple mappings\n",
                "if(!all(table(chebiID$identifier) == 1)) {print (\"There are one-to-multiple mappings.\")} else  print (\"There is no one-to-multiple mapping.\")\n",
                "\n",
                "# add chebi IDs for each metabolite in the dataset\n",
                "mbx_dataset_CD$ChEBI_PriID_BridgeDb <- chebiID$mapping[match(mbx_dataset_CD$Current_HMDBID, chebiID$identifier)]\n",
                "mbx_dataset_UC$ChEBI_PriID_BridgeDb <- chebiID$mapping[match(mbx_dataset_UC$Current_HMDBID, chebiID$identifier)]\n",
                "rm(list = setdiff(ls(), c(\"mbx_dataset_CD\", \"mbx_dataset_UC\"))) # removing variables that are not required\n"
            ]
        },
        {
            "cell_type": "markdown",
            "metadata": {},
            "source": [
                "\n",
                "##Mapping stats:\n"
            ]
        },
        {
            "cell_type": "code",
            "execution_count": null,
            "metadata": {},
            "outputs": [],
            "source": [
                "MappingStats <- data.table(stats =  c(\"#unique HMDB IDs in CD dataset\\n(primary IDs for PrimaryID-nBridgeDb)\",\n",
                "                                     \"#unique HMDB IDs in UC dataset\\n(primary IDs for PrimaryID-nBridgeDb)\",\n",
                "                                     \"#unique ChEBI IDs in CD dataset\",\n",
                "                                     \"#unique ChEBI IDs in UC dataset\",\n",
                "                                     \"#missing mappings for HMDB IDs to ChEBI IDs in CD dataset\",\n",
                "                                     \"#missing mappings for HMDB IDs to ChEBI IDs in UC dataset\"),\n",
                "                           BridgeDb = c(length(unique(mbx_dataset_CD$HMDBID)),\n",
                "                                        length(unique(mbx_dataset_UC$HMDBID)),\n",
                "                                        length(na.omit(unique(mbx_dataset_CD$ChEBI_BridgeDb))),\n",
                "                                        length(na.omit(unique(mbx_dataset_UC$ChEBI_BridgeDb))),\n",
                "                                        sum(is.na(unique(mbx_dataset_CD %>% select(HMDBID, ChEBI_BridgeDb)) %>% .$ChEBI_BridgeDb)),\n",
                "                                        sum(is.na(unique(mbx_dataset_UC %>% select(HMDBID, ChEBI_BridgeDb)) %>% .$ChEBI_BridgeDb))),\n",
                "                           PrimaryID_BridgeDb = c(length(unique(mbx_dataset_CD$HMDBID)),\n",
                "                                        length(unique(mbx_dataset_UC$HMDBID)),\n",
                "                                        length(na.omit(unique(mbx_dataset_CD$ChEBI_PriID_BridgeDb))),\n",
                "                                        length(na.omit(unique(mbx_dataset_UC$ChEBI_PriID_BridgeDb))),\n",
                "                                        sum(is.na(unique(mbx_dataset_CD %>% select(HMDBID, ChEBI_PriID_BridgeDb)) %>% .$ChEBI_PriID_BridgeDb)),\n",
                "                                        sum(is.na(unique(mbx_dataset_UC %>% select(HMDBID, ChEBI_PriID_BridgeDb)) %>% .$ChEBI_PriID_BridgeDb))))\n",
                "\n",
                "kable(MappingStats)\n",
                "\n",
                "#ID mapping visualization\n",
                "order <- c(\"#unique HMDB IDs in CD dataset\\n(primary IDs for PrimaryID-nBridgeDb)\" = 1,\n",
                "           \"#unique ChEBI IDs in CD dataset\" = 2,\n",
                "           \"#missing mappings for HMDB IDs to ChEBI IDs in CD dataset\" = 3, \n",
                "           \"#unique HMDB IDs in UC dataset\\n(primary IDs for PrimaryID-nBridgeDb)\" = 4,\n",
                "           \"#unique ChEBI IDs in UC dataset\" = 5, \n",
                "           \"#missing mappings for HMDB IDs to ChEBI IDs in UC dataset\" = 6)\n",
                "\n",
                "MappingStats_toPlot <- MappingStats %>%\n",
                "  reshape2::melt() %>%\n",
                "  mutate(order=order[match(stats,names(order))],\n",
                "         rescale = scales::rescale(value))\n",
                "\n",
                "\n",
                "(plot <- ggplot(MappingStats_toPlot, aes(x = variable, y = reorder(stats, -order))) +\n",
                "      geom_tile(aes(fill = rescale), colour = \"white\",\n",
                "                lwd = 1.5,\n",
                "              linetype = 1) +\n",
                "    coord_fixed() +\n",
                "    scale_fill_gradient(low = \"white\", high = \"orange\") +\n",
                "    theme_bw() +\n",
                "    labs(y = NULL, x = NULL) +\n",
                "    geom_text(aes(label = value), color = \"black\", size = 1) +\n",
                "    scale_x_discrete(position = \"top\", \n",
                "                     labels = c(\"BridgeDb\", \"PrimaryID\\nBridgeDb\")) + \n",
                "    theme(axis.text.x.top = element_text(vjust = 0.5, size = 4, face = \"bold\"),\n",
                "          axis.text.y = element_text(size = 5, hjust = 0),\n",
                "          legend.position = \"none\"))\n",
                "\n",
                "# ggsave(plot, device = \"jpeg\", units = \"cm\", width = 7, height = 6, filename = \"figures/MappingStats_metabolomics.jpeg\")\n"
            ]
        },
        {
            "cell_type": "markdown",
            "metadata": {},
            "source": [
                "\n",
                "##Save data, print session info, and citation\n"
            ]
        },
        {
            "cell_type": "code",
            "execution_count": null,
            "metadata": {},
            "outputs": [],
            "source": [
                "##Save data: exporting results to the file\n",
                "#CD\n",
                "write.table(mbx_dataset_CD, file = \"results/mbx_IDMapping_CD\", \n",
                "            sep = \"\\t\" , quote = FALSE, row.names = FALSE)\n",
                "\n",
                "#UC\n",
                "write.table(mbx_dataset_UC, file = \"results/mbx_IDMapping_UC\", \n",
                "            sep = \"\\t\" , quote = FALSE, row.names = FALSE)\n",
                "\n",
                "##Print session info:\n",
                "sessionInfo()\n",
                "\n",
                "##Citation BridgeDb:\n",
                "citation(\"BridgeDbR\")\n",
                "\n",
                "##Remove add the data objects\n",
                "rm (list = ls())\n"
            ]
        },
        {
            "cell_type": "markdown",
            "metadata": {},
            "source": "\n"
        },
        {
            "cell_type": "code",
            "execution_count": null,
            "metadata": {},
            "outputs": [],
            "source": [
                "#Jupyter Notebook file\n",
                "# if(!\"devtools\" %in% installed.packages()) BiocManager::install(\"devtools\")\n",
                "# if(!\"rmd2jupyter\" %in% installed.packages()) devtools::install_github(\"mkearney/rmd2jupyter\", force=TRUE)\n",
                "# library(devtools)\n",
                "# library(rmd2jupyter)\n",
                "# setwd(dirname(rstudioapi::getSourceEditorContext()$path))\n",
                "# rmd2jupyter(\"identifier_mapping_metabolomics.Rmd\")\n"
            ]
        }
    ],
    "metadata": {
        "anaconda-cloud": "",
        "kernelspec": {
            "display_name": "R",
            "langauge": "R",
            "name": "ir"
        },
        "language_info": {
            "codemirror_mode": "r",
            "file_extension": ".r",
            "mimetype": "text/x-r-source",
            "name": "R",
            "pygments_lexer": "r",
            "version": "3.4.1"
        }
    },
    "nbformat": 4,
    "nbformat_minor": 1
}
