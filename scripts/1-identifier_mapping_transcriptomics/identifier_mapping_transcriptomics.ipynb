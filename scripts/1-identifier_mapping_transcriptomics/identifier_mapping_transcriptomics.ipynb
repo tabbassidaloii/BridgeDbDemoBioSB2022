{
    "cells": [
        {
            "cell_type": "markdown",
            "metadata": {},
            "source": [
                "## Introduction\n",
                "In this section, identifier (IDs) mapping is performed on an example transcriptomics data set, which was original annotated using HGNC symbols.\n",
                "The dataset has been preprocessed already, for details see step 1 and 2 of the multi-omics workflow at: https://github.com/BiGCAT-UM/Transcriptomics_Metabolomics_Analysis/tree/master/transcriptomics_analysis .\n",
                "We map the HGNC symbols to Entrez Gene and Ensembl IDs, since tools downstream of this step require different input formats for the IDs.\n",
                "\n",
                "We use two tools for this mapping; first we use org.Hs.eg.db [doi:10.18129/B9.bioc.org.Hs.eg.db] and AnnotationDbi; second we use BridgeDb [doi:10.18129/B9.bioc.BridgeDbR].\n",
                "\n",
                "## R environment setup\n"
            ]
        },
        {
            "cell_type": "code",
            "execution_count": null,
            "metadata": {},
            "outputs": [],
            "source": [
                "# empty the R environment\n",
                "rm (list = ls())\n",
                "# check if libraries are already installed, otherwise install it\n",
                "if(!requireNamespace(\"BiocManager\", quietly = TRUE)) install.packages(\"BiocManager\")\n",
                "if(!\"rstudioapi\" %in% installed.packages()) BiocManager::install(\"rstudioapi\")\n",
                "if(!\"org.Hs.eg.db\" %in% installed.packages()) BiocManager::install(\"org.Hs.eg.db\")  \n",
                "if(!\"AnnotationDbi\" %in% installed.packages()) BiocManager::install(\"AnnotationDbi\")\n",
                "if(!\"BridgeDbR\" %in% installed.packages()) BiocManager::install(\"BridgeDbR\")\n",
                "if(!\"dplyr\" %in% installed.packages()) install.packages(\"dplyr\")\n",
                "if(!\"rmarkdown\" %in% installed.packages())install.packages(\"rmarkdown\") \n",
                "if(!\"data.table\" %in% installed.packages())install.packages(\"data.table\")\n",
                "if(!\"knitr\" %in% installed.packages())install.packages(\"knitr\")\n",
                "# if(!\"downloader\" %in% installed.packages())install.packages(\"downloader\")\n",
                "\n",
                "#load installed libraries\n",
                "suppressPackageStartupMessages({\n",
                "  library(rstudioapi) # interface for interacting with RStudio IDE with R code.\n",
                "  library(org.Hs.eg.db) #This is the organism annotation package (\"org\") for Homo sapiens (\"Hs\"), organized as an AnnotationDbi   package (\"db\"), using Entrez Gene IDs (\"eg\") as primary key.\n",
                "  library(AnnotationDbi) # for connecting and querying annotation databases\n",
                "  library(BridgeDbR)\n",
                "  library(dplyr)\n",
                "  library(rmarkdown)\n",
                "  library(data.table)\n",
                "  library(knitr)\n",
                "  # require(downloader)\n",
                "})\n",
                "\n",
                "# set your working environment to the location where your current source file is saved into.\n",
                "setwd(dirname(rstudioapi::getSourceEditorContext()$path))\n"
            ]
        },
        {
            "cell_type": "markdown",
            "metadata": {},
            "source": [
                "## Importing dataset\n",
                "The data will be read for the disease on two biopsy locations\n"
            ]
        },
        {
            "cell_type": "code",
            "execution_count": null,
            "metadata": {},
            "outputs": [],
            "source": [
                "#we have four datasets, two different disorders and two different biopsy locations\n",
                "#Reading the files for CD disorder\n",
                "(filenames <- list.files(\"data\", pattern = \"CD\", full.names = TRUE)) #Printing the file names\n",
                "dataset_CD <- lapply(filenames, read.delim) #Reading the files\n",
                "\n",
                "#filter out  unused columns, we select geneSymbol, log2FC and pvalue and\n",
                "#merge two dataset of two locations into one datafile\n",
                "dataset_CD <- merge(dataset_CD[[1]] %>% select(\"X\", \"FoldChange\", \"padj\"), #Merging and sub-setting the columns required\n",
                "                    dataset_CD[[2]] %>% select(\"X\", \"FoldChange\", \"padj\"), \n",
                "                    by = \"X\", all = TRUE)\n",
                "\n",
                "#Reading the files for UC disorder\n",
                "(filenames <- list.files(\"data\", pattern = \"UC\", full.names = TRUE)) #Printing the file names\n",
                "dataset_UC <- lapply(filenames, read.delim) #Reading the files\n",
                "\n",
                "#filter out  unused columns, we select geneSymbol, log2FC and pvalue and\n",
                "#merge two dataset of two locations into one datafile per disorder\n",
                "dataset_UC <- merge(dataset_UC[[1]] %>% select(\"X\", \"FoldChange\", \"padj\"), #Merging and sub-setting the columns required\n",
                "                    dataset_UC[[2]] %>% select(\"X\", \"FoldChange\", \"padj\"), \n",
                "                    by = \"X\", all = TRUE)\n",
                "\n",
                "#change column names\n",
                "colnames(dataset_CD) <- colnames(dataset_UC) <- c(\"GeneSymbol\", \"log2FC_ileum\", \"pvalue_ileum\", \"log2FC_rectum\", \"pvalue_rectum\")\n",
                "\n",
                "rm(list = setdiff(ls(), c(\"dataset_UC\", \"dataset_CD\"))) # removing variables that are not required\n"
            ]
        },
        {
            "cell_type": "markdown",
            "metadata": {},
            "source": [
                "\n",
                "## Converting hgnc gene symbols to the corresponding Entrez (NCBI) gene IDs (org.Hs.eg.db)\n"
            ]
        },
        {
            "cell_type": "code",
            "execution_count": null,
            "metadata": {},
            "outputs": [],
            "source": [
                "#converting gene symbols to entrez ID since these are required for the enrichR function\n",
                "hs <- org.Hs.eg.db #This object is a simple mapping of Entrez Gene identifier\n",
                "\n",
                "# check if all the gene symbols are the same in both datasets\n",
                "all(dataset_CD$GeneSymbol == dataset_UC$GeneSymbol) \n",
                "##same gene symbols, so mapping based on one of the files \n",
                "entrezID <- AnnotationDbi::select(hs, keys = dataset_CD$GeneSymbol, \n",
                "            columns = c(\"ENTREZID\", \"SYMBOL\"), \n",
                "            keytype = \"SYMBOL\")\n",
                "\n",
                "# checking the one-to-multiple mappings\n",
                "if(!all(table(entrezID$SYMBOL) == 1)) print (\"There are one-to-multiple mappings\")\n",
                "#store one-to-multiple mapping info\n",
                "entrezID_doubles_Hs <- length(table(entrezID$SYMBOL) [table(entrezID$SYMBOL) > 1])\n",
                "##run the two lines below if you want to check which genes have multiple Entrez (NCBI) gene IDs\n",
                "# entrezID_doubles_Hs <- names(table(entrezID$SYMBOL)[table(entrezID$SYMBOL) > 1])\n",
                "# entrezID [entrezID$SYMBOL %in% entrezID_doubles_Hs, ]\n",
                "\n",
                "#filter out double identifiers because there are one-to-many relationship\n",
                "entrezID <- entrezID %>% distinct(entrezID$SYMBOL, .keep_all = TRUE)\n",
                "\n",
                "# add entrezIDs for each gene symbol in the dataset\n",
                "dataset_CD$ENTREZ.ID_org.Hs <- entrezID$ENTREZID [match(dataset_CD$GeneSymbol, entrezID$SYMBOL)] \n",
                "dataset_UC$ENTREZ.ID_org.Hs <- entrezID$ENTREZID [match(dataset_UC$GeneSymbol, entrezID$SYMBOL)] \n",
                "\n",
                "rm(list = setdiff(ls(), c(\"dataset_UC\", \"dataset_CD\", \"entrezID_doubles_Hs\", \"hs\"))) # removing variables that are not required\n"
            ]
        },
        {
            "cell_type": "markdown",
            "metadata": {},
            "source": [
                "\n",
                "## Converting hgnc gene symbols to the corresponding Ensembl IDs (org.Hs.eg.db)\n"
            ]
        },
        {
            "cell_type": "code",
            "execution_count": null,
            "metadata": {},
            "outputs": [],
            "source": [
                "#converting gene symbols to Ensembl ID since these are required for the Cytoscape multiomics visualization\n",
                "ensemblID <- AnnotationDbi::select(hs, keys = dataset_CD$GeneSymbol, \n",
                "            columns = c(\"ENSEMBL\", \"SYMBOL\"), \n",
                "            keytype = \"SYMBOL\")\n",
                "\n",
                "# checking the one-to-multiple mappings\n",
                "if(!all(table(ensemblID$SYMBOL) == 1)) print (\"There are one-to-multiple mappings\")\n",
                "#store one-to-multiple mapping info\n",
                "ensemblID_doubles_Hs <- length(table(ensemblID$SYMBOL)[table(ensemblID$SYMBOL) > 1])\n",
                "##run the two lines below if you want to check which genes have multiple Ensembl IDs\n",
                "# ensemblID_doubles_Hs <- names(table(ensemblID$SYMBOL)[table(ensemblID$SYMBOL) > 1])\n",
                "# ensemblID %>% filter(SYMBOL %in% ensemblID_doubles_Hs) %>% arrange(SYMBOL)\n",
                "\n",
                "#filter out double identifiers because there are one-to-many relationship\n",
                "ensemblID <- ensemblID %>% distinct(ensemblID$SYMBOL, .keep_all = TRUE)\n",
                "# add entrezIDs for each gene symbol in the dataset\n",
                "dataset_CD$Ensembl.ID_org.Hs <- ensemblID$ENSEMBL [match(dataset_CD$GeneSymbol, ensemblID$SYMBOL)] \n",
                "dataset_UC$Ensembl.ID_org.Hs <- ensemblID$ENSEMBL [match(dataset_UC$GeneSymbol, ensemblID$SYMBOL)] \n",
                "\n",
                "rm(list = setdiff(ls(), c(\"dataset_UC\", \"dataset_CD\", \"entrezID_doubles_Hs\", \"ensemblID_doubles_Hs\"))) # removing variables that are not required\n"
            ]
        },
        {
            "cell_type": "markdown",
            "metadata": {},
            "source": [
                "\n",
                "## Converting hgnc gene symbols to the corresponding Entrez (NCBI) gene IDs (BridgeDb)\n"
            ]
        },
        {
            "cell_type": "code",
            "execution_count": null,
            "metadata": {},
            "outputs": [],
            "source": [
                "#Download and load the human derby database and converting gene symbols to entrez ID since these are required for the enrichR function\n",
                "# fileUrl <- \"\"\n",
                "# require(downloader)\n",
                "# download(fileUrl, \"data/Hs_Derby_Ensembl_105.bridge\", mode = \"wb\")\n",
                "mapper <- loadDatabase(\"D:/bridgeDb/BridgeDbDemoBioSB2022/scripts/1-identifier_mapping_transcriptomics/data/Hs_Derby_Ensembl_105.bridge\")\n",
                "\n",
                "## Obtain the System codes for the databases HGNC (source database of dataset) and Entrez (NCBI) (intended output database)\n",
                "code_mappingFrom <- getSystemCode(\"HGNC\")\n",
                "code_mappingTo <- getSystemCode(\"Entrez Gene\")\n",
                "\n",
                "## Create a data frame with the mappings and the correct SystemCode\n",
                "input <- data.frame(source = rep(code_mappingFrom, length(dataset_CD$GeneSymbol)),\n",
                "                     identifier = dataset_CD$GeneSymbol)\n",
                "#Obtain all mappings from HGNC to Entrez (NCBI)\n",
                "entrezID <- maps(mapper = mapper, input, target = code_mappingTo) \n",
                "\n",
                "# checking the one-to-multiple mappings\n",
                "if(!all(table(entrezID$identifier) == 1)) print (\"There are one-to-multiple mappings\")\n",
                "#store one-to-multiple mapping info\n",
                "entrezID_doubles_BridgeDb <- length(table(entrezID$identifier) [table(entrezID$identifier) > 1])\n",
                "##run the two lines below if you want to check which genes have multiple Entrez (NCBI) gene IDs\n",
                "# entrezID_doubles_BridgeDb <- names(table(entrezID$identifier)[table(entrezID$identifier) > 1])\n",
                "# entrezID [entrezID$identifier %in% entrezID_doubles_BridgeDb, ]\n",
                "\n",
                "#filter out double identifiers because there are one-to-many relationship\n",
                "entrezID <- entrezID %>% distinct(entrezID$identifier, .keep_all = TRUE)\n",
                "\n",
                "# add entrezIDs for each gene symbol in the dataset\n",
                "dataset_CD$ENTREZ.ID_BridgeDb <- entrezID$mapping [match(dataset_CD$GeneSymbol, entrezID$identifier)] \n",
                "dataset_UC$ENTREZ.ID_BridgeDb <- entrezID$mapping [match(dataset_UC$GeneSymbol, entrezID$identifier)] \n",
                "\n",
                "rm(list = setdiff(ls(), c(\"dataset_UC\", \"dataset_CD\", \"entrezID_doubles_Hs\", \"ensemblID_doubles_Hs\", \"mapper\", \"input\", \"entrezID_doubles_BridgeDb\"))) # removing variables that are not required\n"
            ]
        },
        {
            "cell_type": "markdown",
            "metadata": {},
            "source": [
                "\n",
                "## Converting hgnc gene symbols to the corresponding Ensembl IDs (BridgeDb)\n"
            ]
        },
        {
            "cell_type": "code",
            "execution_count": null,
            "metadata": {},
            "outputs": [],
            "source": [
                "#converting gene symbols to Ensembl ID since these are required for the Cytoscape multiomics visualization\n",
                "## Obtain the System codes for Ensembl (intended output database)\n",
                "code_mappingTo <- getSystemCode(\"Ensembl\")\n",
                "#Obtain all mappings from HGNC to Ensembl\n",
                "ensemblID <- maps(mapper = mapper, input, target = code_mappingTo) \n",
                "\n",
                "# checking the one-to-multiple mappings\n",
                "if(!all(table(ensemblID$identifier) == 1)) print (\"There are one-to-multiple mappings\")\n",
                "#store one-to-multiple mapping info\n",
                "ensemblID_doubles_BridgeDb <- length(table(ensemblID$identifier) [table(ensemblID$identifier) > 1])\n",
                "##run the two lines below if you want to check which genes have multiple Ensembl ID\n",
                "# ensemblID_doubles_BridgeDb <- names(table(ensemblID$identifier)[table(ensemblID$identifier) > 1])\n",
                "# ensemblID [ensemblID$identifier %in% ensemblID_doubles_BridgeDb, ] \n",
                "\n",
                "#filter out double identifiers because there are one-to-many relationship\n",
                "ensemblID <- ensemblID %>% distinct(ensemblID$identifier, .keep_all = TRUE)\n",
                "\n",
                "# add ensemblIDs for each gene symbol in the dataset\n",
                "dataset_CD$Ensembl.ID_BridgeDb <- ensemblID$mapping [match(dataset_CD$GeneSymbol, ensemblID$identifier)] \n",
                "dataset_UC$Ensembl.ID_BridgeDb <- ensemblID$mapping [match(dataset_UC$GeneSymbol, ensemblID$identifier)] \n",
                "\n",
                "rm(list = setdiff(ls(), c(\"dataset_UC\", \"dataset_CD\", \"entrezID_doubles_Hs\", \"ensemblID_doubles_Hs\", \"mapper\", \"input\", \"entrezID_doubles_BridgeDb\", \"ensemblID_doubles_BridgeDb\"))) # removing variables that are not required\n"
            ]
        },
        {
            "cell_type": "markdown",
            "metadata": {},
            "source": [
                "## Using BridgeDb for secondary to primary mapping of hgnc gene symbols\n",
                "\n",
                "### a. mapping the hgnc symbols to hgnc IDs\n",
                "HGNC recycles the hgnc gene symbols which means there are identifiers (symbols) that are secondary for a certain entity (e.g the primary hgnc symbol is FYN and the secondary hgnc symbol is SLK), while the same identifiers might be used as a primary symbol for another entity (SLK is a primary symbol for another gene). \n",
                "This makes the mapping based on hgnc gene symbols challenging. \n",
                "`Here We assumed when a hgnc gene symbol has a hgnc ID, it is primary and we only map those without a hgnc ID.`\n"
            ]
        },
        {
            "cell_type": "code",
            "execution_count": null,
            "metadata": {},
            "outputs": [],
            "source": [
                "#converting gene symbols to hgnc ID \n",
                "## Obtain the System codes for HGNC Accession number (intended output database)\n",
                "code_mappingTo <- getSystemCode(\"HGNC Accession number\")\n",
                "#Obtain all mappings from HGNC to HGNC Accession number\n",
                "hgncID <- maps(mapper = mapper, input, target = \"Hac\") \n",
                "\n",
                "# checking the one-to-multiple mappings\n",
                "if(!all(table(hgncID$identifier) == 1)) {print (\"There are one-to-multiple mappings.\")} else  print (\"There is no one-to-multiple mapping.\")\n",
                "\n",
                "# add HGNC id for each gene symbol in the dataset\n",
                "dataset_CD$HGNC.ID_BridgeDb <- hgncID$mapping[match(dataset_CD$GeneSymbol, hgncID$identifier)]\n",
                "dataset_UC$HGNC.ID_BridgeDb <- hgncID$mapping[match(dataset_UC$GeneSymbol, hgncID$identifier)]\n",
                "\n",
                "rm(list = setdiff(ls(), c(\"dataset_UC\", \"dataset_CD\", \"entrezID_doubles_Hs\", \"ensemblID_doubles_Hs\", \"entrezID_doubles_BridgeDb\", \"ensemblID_doubles_BridgeDb\"))) # removing variables that are not required\n"
            ]
        },
        {
            "cell_type": "markdown",
            "metadata": {},
            "source": [
                "### b. mapping secondary hgnc symbols to primary hgnc symbols\n",
                "Mapping hgnc symbols without a HGNC id mapped\n"
            ]
        },
        {
            "cell_type": "code",
            "execution_count": null,
            "metadata": {},
            "outputs": [],
            "source": [
                "# loading the HGNC secondary id derby database\n",
                "mapper <- loadDatabase(\"D:/bridgeDb/BridgeDbDemoBioSB2022/scripts/1-identifier_mapping_transcriptomics/data/hgnc_primaryToSecondaryIDs.bridge\")\n",
                "\n",
                "## Obtain the System codes for the databases HGNC \n",
                "code_mapping <- getSystemCode(\"HGNC\")\n",
                "\n",
                "#Subset hgnc gene symbols with no hgnc ID\n",
                "input <- dataset_CD$GeneSymbol [is.na(dataset_CD$HGNC.ID_BridgeDb)] \n",
                "## Create a data frame with the mappings and the correct SystemCode\n",
                "input <- data.frame(source = rep(code_mapping, length(input)),\n",
                "                    identifier = input)\n",
                "#converting secondary gene symbols to primary gene symbols \n",
                "hgnc <- maps(mapper = mapper, input, target = code_mapping) %>% \n",
                "    filter(isPrimary == \"T\") # Keeping only rows where the mapping is annotated as primary id (defined in BridgeDb java library when creating the derby database)\n",
                "\n",
                "# checking the one-to-multiple mappings\n",
                "if(!all(table(hgnc$identifier) == 1)) print (\"There are one-to-multiple mappings\")\n",
                "\n",
                "#store one-to-multiple mapping info\n",
                "hgnc_doubles_PriID_BridgeDb <- length(table(hgnc$identifier) [table(hgnc$identifier) > 1])\n",
                "##run the two lines below if you want to check which genes have multiple mapping\n",
                "# hgnc_doubles_PriID_BridgeDb <- names(table(hgnc$identifier)[table(hgnc$identifier) > 1])\n",
                "# hgnc [hgnc$identifier %in% hgnc_doubles_PriID_BridgeDb, ] \n"
            ]
        },
        {
            "cell_type": "markdown",
            "metadata": {},
            "source": [
                "Checking the reason that the secondary symbol mapped to multiple primary symbols\n",
                "\n"
            ]
        },
        {
            "cell_type": "code",
            "execution_count": null,
            "metadata": {},
            "outputs": [],
            "source": [
                "hgnc [hgnc$identifier == \"AGPAT9\", ]\n",
                "\n"
            ]
        },
        {
            "cell_type": "markdown",
            "metadata": {},
            "source": [
                "In this example where we manually checked:\n",
                "GPAT3 is the Previous symbol (this field displays any symbols that were previously HGNC-approved nomenclature.)\n",
                "LPCAT1 is the Alias symbol (Alternative symbols that have been used to refer to the gene. Aliases may be from literature, from other databases or may be added to represent membership of a gene group.)\n"
            ]
        },
        {
            "cell_type": "code",
            "execution_count": null,
            "metadata": {},
            "outputs": [],
            "source": [
                "hgnc [hgnc$identifier == \"U3\", ]\n",
                "\n"
            ]
        },
        {
            "cell_type": "markdown",
            "metadata": {},
            "source": [
                "This is an example of using the same alias for 5 different hgnc genes\n",
                "\n",
                "The issue of one-to-multiple mappings could not be easily fixed (needs manual check) and emphasizes on the importance of using unique, persistent, resolvable identifiers. \n",
                "\n",
                "Some of the primary symbols are already presented in the dataset (used as primary symbol for another gene). This shows another limitation of using gene symbols as identifiers, and to avoid the duplicated gene symbols we only mapped those symbols that are not presented in the dataset. \n"
            ]
        },
        {
            "cell_type": "code",
            "execution_count": null,
            "metadata": {},
            "outputs": [],
            "source": [
                "if (!all(!hgnc$mapping %in% dataset_CD$GeneSymbol))\n",
                "    hgnc <- hgnc [!hgnc$mapping %in% dataset_CD$GeneSymbol,] \n",
                "    \n",
                "#filter out double gene symbols\n",
                "hgnc <- hgnc %>% distinct(hgnc$identifier, .keep_all = TRUE)\n",
                "\n",
                "# add primary (current) hgnc gene symbol each gene symbol in the dataset\n",
                "dataset_CD$Current_GeneSymbol <- hgnc$mapping[match(dataset_CD$GeneSymbol, hgnc$identifier)]\n",
                "dataset_CD$Current_GeneSymbol [is.na(dataset_CD$Current_GeneSymbol)] = dataset_CD$GeneSymbol [is.na(dataset_CD$Current_GeneSymbol)]\n",
                "\n",
                "dataset_UC$Current_GeneSymbol <- hgnc$mapping[match(dataset_UC$GeneSymbol, hgnc$identifier)]\n",
                "dataset_UC$Current_GeneSymbol [is.na(dataset_UC$Current_GeneSymbol)] = dataset_UC$GeneSymbol [is.na(dataset_UC$Current_GeneSymbol)]\n",
                "\n",
                "rm(list = setdiff(ls(), c(\"dataset_UC\", \"dataset_CD\", \"entrezID_doubles_Hs\", \"ensemblID_doubles_Hs\", \"entrezID_doubles_BridgeDb\", \"ensemblID_doubles_BridgeDb\", \"hgnc_doubles_PriID_BridgeDb\"))) # removing variables that are not required\n"
            ]
        },
        {
            "cell_type": "markdown",
            "metadata": {},
            "source": [
                "\n",
                "## Converting `primary` hgnc gene symbols to the corresponding Entrez (NCBI) gene IDs (BridgeDb)\n"
            ]
        },
        {
            "cell_type": "code",
            "execution_count": null,
            "metadata": {},
            "outputs": [],
            "source": [
                "#load the human derby database and converting gene symbols to entrez ID since these are required for the enrichR function\n",
                "mapper <- loadDatabase(\"D:/bridgeDb/BridgeDbDemoBioSB2022/scripts/1-identifier_mapping_transcriptomics/data/Hs_Derby_Ensembl_105.bridge\")\n",
                "\n",
                "# Obtain the System codes for the databases HGNC (source database of dataset) and Entrez (NCBI) (intended output database)\n",
                "code_mappingFrom <- getSystemCode(\"HGNC\")\n",
                "code_mappingTo <- getSystemCode(\"Entrez Gene\")\n",
                "\n",
                "# Create a data frame with the mappings and the correct SystemCode\n",
                "input <- data.frame(source = rep(code_mappingFrom, length(dataset_CD$Current_GeneSymbol)),\n",
                "                    identifier = dataset_CD$Current_GeneSymbol)\n",
                "\n",
                "#Obtain all mappings from HGNC to Entrez (NCBI)\n",
                "entrezID <- maps(mapper = mapper, input, target = code_mappingTo) \n",
                "\n",
                "# checking the one-to-multiple mappings\n",
                "if(!all(table(entrezID$identifier) == 1)) print (\"There are one-to-multiple mappings\")\n",
                "#store one-to-multiple mapping info\n",
                "entrezID_doubles_PriID_BridgeDb <- length(table(entrezID$identifier) [table(entrezID$identifier) > 1])\n",
                "##run the two lines below if you want to check which genes have multiple Entrez (NCBI) gene IDs\n",
                "# entrezID_doubles_PriID_BridgeDb <- names(table(entrezID$identifier)[table(entrezID$identifier) > 1])\n",
                "# entrezID [entrezID$identifier %in% entrezID_doubles_PriID_BridgeDb, ] \n",
                "\n",
                "#filter out double identifiers because there are one-to-many relationship\n",
                "entrezID <- entrezID %>% distinct(entrezID$identifier, .keep_all = TRUE)\n",
                "\n",
                "# add entrezIDs for each gene symbol in the dataset\n",
                "dataset_CD$ENTREZ.ID_PriID_BridgeDb <- entrezID$mapping [match(dataset_CD$Current_GeneSymbol, entrezID$identifier)] \n",
                "dataset_UC$ENTREZ.ID_PriID_BridgeDb <- entrezID$mapping [match(dataset_UC$Current_GeneSymbol, entrezID$identifier)] \n",
                "\n",
                "rm(list = setdiff(ls(), c(\"dataset_UC\", \"dataset_CD\", \"entrezID_doubles_Hs\", \"ensemblID_doubles_Hs\", \"entrezID_doubles_BridgeDb\", \"ensemblID_doubles_BridgeDb\", \"hgnc_doubles_PriID_BridgeDb\", \"entrezID_doubles_PriID_BridgeDb\", \"input\", \"mapper\"))) # removing variables that are not required\n"
            ]
        },
        {
            "cell_type": "markdown",
            "metadata": {},
            "source": [
                "\n",
                "## Converting `primary` hgnc gene symbols to the corresponding Ensembl IDs (BridgeDb)\n"
            ]
        },
        {
            "cell_type": "code",
            "execution_count": null,
            "metadata": {},
            "outputs": [],
            "source": [
                "#converting gene symbols to Ensembl ID since these are required for the Cytoscape multiomics visualization\n",
                "## Obtain the System codes for Ensembl (intended output database)\n",
                "code_mappingTo <- getSystemCode(\"Ensembl\")\n",
                "#Obtain all mappings from HGNC to Ensembl\n",
                "ensemblID <- maps(mapper = mapper, input, target = code_mappingTo) \n",
                "\n",
                "# checking the one-to-multiple mappings\n",
                "if(!all(table(ensemblID$identifier) == 1)) print (\"There are one-to-multiple mappings\")\n",
                "#store one-to-multiple mapping info\n",
                "ensemblID_doubles_PriID_BridgeDb <- length(table(ensemblID$identifier) [table(ensemblID$identifier) > 1])\n",
                "##run the two lines below if you want to check which genes have multiple Ensembl ID\n",
                "# ensemblID_doubles_PriID_BridgeDb <- names(table(ensemblID$identifier)[table(ensemblID$identifier) > 1])\n",
                "# ensemblID [ensemblID$identifier %in% ensemblID_doubles_PriID_BridgeDb, ]\n",
                "\n",
                "#filter out double identifiers because there are one-to-many relationship\n",
                "ensemblID <- ensemblID %>% distinct(ensemblID$identifier, .keep_all = TRUE)\n",
                "\n",
                "# add ensemblIDs for each gene symbol in the dataset\n",
                "dataset_CD$Ensembl.ID_PriID_BridgeDb <- ensemblID$mapping [match(dataset_CD$Current_GeneSymbol, ensemblID$identifier)] \n",
                "dataset_UC$Ensembl.ID_PriID_BridgeDb <- ensemblID$mapping [match(dataset_UC$Current_GeneSymbol, ensemblID$identifier)] \n",
                "\n",
                "rm(list = setdiff(ls(), c(\"dataset_UC\", \"dataset_CD\", \"entrezID_doubles_Hs\", \"ensemblID_doubles_Hs\", \"entrezID_doubles_BridgeDb\", \"ensemblID_doubles_BridgeDb\", \"hgnc_doubles_PriID_BridgeDb\", \"entrezID_doubles_PriID_BridgeDb\", \"ensemblID_doubles_PriID_BridgeDb\"))) # removing variables that are not required\n"
            ]
        },
        {
            "cell_type": "markdown",
            "metadata": {},
            "source": [
                "\n",
                "##Mapping stats:\n"
            ]
        },
        {
            "cell_type": "code",
            "execution_count": null,
            "metadata": {},
            "outputs": [],
            "source": [
                "##HGNC_originalData\n",
                "paste0(\"The total number of HGNC Symbol in the transcriptomics dataset is: \", nrow(dataset_CD))\n",
                "\n",
                "MappingStats <- data.table(`  ` =  c(\"The total number of unique Entrez IDs\",\n",
                "                                     \"The total number of missing mappings for HGNC Symbol to Entrez IDs\",\n",
                "                                     \"The total number of one-to-many mappings for Entrez IDs\",\n",
                "                                     \"The total number of unique Ensembl IDs\",\n",
                "                                     \"The total number of missing mappings for HGNC Symbol to Ensembl IDs\",\n",
                "                                     \"The total number of one-to-many mappings for Ensembl IDs\"),\n",
                "                           org.Hs = c(sum(!is.na(dataset_CD$ENTREZ.ID_org.Hs)), \n",
                "                                      sum(is.na(dataset_CD$ENTREZ.ID_org.Hs)),\n",
                "                                      entrezID_doubles_Hs,\n",
                "                                      sum(!is.na(dataset_CD$Ensembl.ID_org.Hs)), \n",
                "                                      sum(is.na(dataset_CD$Ensembl.ID_org.Hs)), \n",
                "                                      ensemblID_doubles_Hs),\n",
                "                           BridgeDb = c(sum(!is.na(dataset_CD$ENTREZ.ID_BridgeDb)),\n",
                "                                        sum(is.na(dataset_CD$ENTREZ.ID_BridgeDb)), \n",
                "                                        entrezID_doubles_BridgeDb,\n",
                "                                        sum(!is.na(dataset_CD$Ensembl.ID_BridgeDb)), \n",
                "                                        sum(is.na(dataset_CD$Ensembl.ID_BridgeDb)),\n",
                "                                        ensemblID_doubles_BridgeDb),\n",
                "                           PrimaryID_BridgeDb = c(sum(!is.na(dataset_CD$ENTREZ.ID_PriID_BridgeDb)),\n",
                "                                                  sum(is.na(dataset_CD$ENTREZ.ID_PriID_BridgeDb)),\n",
                "                                                  entrezID_doubles_PriID_BridgeDb,\n",
                "                                                  sum(!is.na(dataset_CD$Ensembl.ID_PriID_BridgeDb)), \n",
                "                                                  sum(is.na(dataset_CD$Ensembl.ID_PriID_BridgeDb)),\n",
                "                                                  ensemblID_doubles_PriID_BridgeDb))\n",
                "\n",
                "kable(MappingStats)\n",
                "##Citation org.Hs:\n",
                "citation(\"org.Hs.eg.db\")\n",
                "\n",
                "##Citation BridgeDb:\n",
                "citation(\"BridgeDbR\")\n"
            ]
        },
        {
            "cell_type": "markdown",
            "metadata": {},
            "source": [
                "\n",
                "##Save data, print session info and remove large datasets:\n"
            ]
        },
        {
            "cell_type": "code",
            "execution_count": null,
            "metadata": {},
            "outputs": [],
            "source": [
                "##Save data: exporting results to the file\n",
                "#CD\n",
                "write.table(dataset_CD, file = \"results/IDMapping_CD\", \n",
                "            sep = \"\\t\" , quote = FALSE, row.names = FALSE)\n",
                "\n",
                "#UC\n",
                "write.table(dataset_UC, file = \"results/IDMapping_UC\", \n",
                "            sep = \"\\t\" , quote = FALSE, row.names = FALSE)\n",
                "\n",
                "##Print session info:\n",
                "sessionInfo()\n",
                "\n",
                "##Remove data objects which are not needed for further processing:\n",
                "rm(list = setdiff(ls(), c(\"dataset_CD\", \"dataset_UC\")))\n"
            ]
        },
        {
            "cell_type": "markdown",
            "metadata": {},
            "source": "\n"
        },
        {
            "cell_type": "code",
            "execution_count": null,
            "metadata": {},
            "outputs": [],
            "source": [
                "#Jupyter Notebook file\n",
                "# if(!\"devtools\" %in% installed.packages()) BiocManager::install(\"devtools\")\n",
                "# if(!\"rmd2jupyter\" %in% installed.packages()) devtools::install_github(\"mkearney/rmd2jupyter\", force=TRUE)\n",
                "# library(devtools)\n",
                "# library(rmd2jupyter)\n",
                "# setwd(dirname(rstudioapi::getSourceEditorContext()$path))\n",
                "# rmd2jupyter(\"identifier_mapping_transcriptomics.Rmd\")\n"
            ]
        }
    ],
    "metadata": {
        "anaconda-cloud": "",
        "kernelspec": {
            "display_name": "R",
            "langauge": "R",
            "name": "ir"
        },
        "language_info": {
            "codemirror_mode": "r",
            "file_extension": ".r",
            "mimetype": "text/x-r-source",
            "name": "R",
            "pygments_lexer": "r",
            "version": "3.4.1"
        }
    },
    "nbformat": 4,
    "nbformat_minor": 1
}
